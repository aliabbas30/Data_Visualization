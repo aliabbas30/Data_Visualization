{
 "cells": [
  {
   "cell_type": "code",
   "execution_count": 41,
   "id": "89db297c",
   "metadata": {
    "ExecuteTime": {
     "end_time": "2022-08-13T21:07:55.273718Z",
     "start_time": "2022-08-13T21:07:55.267408Z"
    }
   },
   "outputs": [],
   "source": [
    "# !pip install numpy\n",
    "# !pip install pandas\n",
    "# !pip install matplotlib\n",
    "# !pip install seaborn\n",
    "# !pip install plotly"
   ]
  },
  {
   "cell_type": "code",
   "execution_count": 1,
   "id": "d205f5be",
   "metadata": {
    "ExecuteTime": {
     "end_time": "2022-08-15T07:44:13.951801Z",
     "start_time": "2022-08-15T07:44:10.703784Z"
    }
   },
   "outputs": [
    {
     "data": {
      "text/html": [
       "        <script type=\"text/javascript\">\n",
       "        window.PlotlyConfig = {MathJaxConfig: 'local'};\n",
       "        if (window.MathJax && window.MathJax.Hub && window.MathJax.Hub.Config) {window.MathJax.Hub.Config({SVG: {font: \"STIX-Web\"}});}\n",
       "        if (typeof require !== 'undefined') {\n",
       "        require.undef(\"plotly\");\n",
       "        requirejs.config({\n",
       "            paths: {\n",
       "                'plotly': ['https://cdn.plot.ly/plotly-2.14.0.min']\n",
       "            }\n",
       "        });\n",
       "        require(['plotly'], function(Plotly) {\n",
       "            window._Plotly = Plotly;\n",
       "        });\n",
       "        }\n",
       "        </script>\n",
       "        "
      ]
     },
     "metadata": {},
     "output_type": "display_data"
    }
   ],
   "source": [
    "import numpy as np\n",
    "import matplotlib.pyplot as plt\n",
    "import pandas as pd\n",
    "import seaborn as sns\n",
    "from plotly.offline import plot, iplot, init_notebook_mode\n",
    "import plotly.graph_objs as go\n",
    "import plotly.express as px\n",
    "\n",
    "init_notebook_mode (connected = True)\n",
    "import warnings\n",
    "warnings.filterwarnings('ignore')\n"
   ]
  },
  {
   "cell_type": "code",
   "execution_count": 2,
   "id": "efa836b1",
   "metadata": {
    "ExecuteTime": {
     "end_time": "2022-08-15T07:44:13.963984Z",
     "start_time": "2022-08-15T07:44:13.955089Z"
    }
   },
   "outputs": [],
   "source": [
    "f = pd.read_csv('titanic.csv')"
   ]
  },
  {
   "cell_type": "code",
   "execution_count": 3,
   "id": "af39d839",
   "metadata": {
    "ExecuteTime": {
     "end_time": "2022-08-15T07:44:14.511891Z",
     "start_time": "2022-08-15T07:44:14.487266Z"
    }
   },
   "outputs": [
    {
     "data": {
      "text/plain": [
       "(Survived                   0\n",
       " Pclass                     0\n",
       " Name                       0\n",
       " Gender                     0\n",
       " Age                        0\n",
       " Siblings/Spouses Aboard    0\n",
       " Parents/Children Aboard    0\n",
       " Fare                       0\n",
       " dtype: int64,\n",
       " 0)"
      ]
     },
     "execution_count": 3,
     "metadata": {},
     "output_type": "execute_result"
    }
   ],
   "source": [
    "f.isnull().sum(), f.duplicated().sum()"
   ]
  },
  {
   "cell_type": "markdown",
   "id": "de69ffd6",
   "metadata": {},
   "source": [
    "## Question 1 Bar plot of Pclass in Percentage\n",
    " - In this section we have taken each Pclass value and find the occurence of that variable in the data, The results shows that the data has three classes and 3rd class has the most values in data The overall percentage is greater than combined percentage of the other two classes which meanns that more than 50% data has passenders with pclass 3. The lowest occured class is class 2 in the data set having the occurence of only 20% in the whole dataset. "
   ]
  },
  {
   "cell_type": "code",
   "execution_count": 4,
   "id": "245ab07e",
   "metadata": {
    "ExecuteTime": {
     "end_time": "2022-08-15T07:44:21.749433Z",
     "start_time": "2022-08-15T07:44:21.246422Z"
    }
   },
   "outputs": [
    {
     "data": {
      "image/png": "[encoded data removed]",
      "text/plain": [
       "<Figure size 432x432 with 1 Axes>"
      ]
     },
     "metadata": {
      "needs_background": "light"
     },
     "output_type": "display_data"
    }
   ],
   "source": [
    "bar = f['Pclass'].value_counts().rename_axis('Subclass').reset_index(name = 'counts')\n",
    "total = bar['counts'].sum()\n",
    "percentage= []\n",
    "for i in range(bar.shape[0]):\n",
    "    pct = (bar.counts[i]/total)*100\n",
    "    percentage.append(round(pct,2))\n",
    "bar['Percentage'] = percentage\n",
    "\n",
    "\n",
    "plt.figure(num = 1, figsize= (6,6))\n",
    "c_list = ['#AC3979','#39A7AC','#39AC79']\n",
    "graph = plt.bar(bar.Subclass, bar.counts, color = c_list)\n",
    "plt.xlabel(\"Pclass Classes\")\n",
    "plt.ylabel('Count of each class')\n",
    "plt.xticks([1, 2, 3])\n",
    "       \n",
    "plt.title(\"Distribution of Pclass in Percentage\")\n",
    "\n",
    "i = 0 \n",
    "for p in graph:\n",
    "    width = p.get_width()\n",
    "    height = p.get_height()\n",
    "    x, y = p.get_xy()\n",
    "    plt.text(x+width/2, y+height*1.01, str(bar.Percentage[i])+ '%', ha = 'center', weight = 'bold')\n",
    "    i = i+1\n",
    "plt.show()"
   ]
  },
  {
   "cell_type": "markdown",
   "id": "91d377ea",
   "metadata": {},
   "source": [
    "## Qno 2 Started\n",
    "### Part 1 \n",
    "\n",
    "- In this section we have created a stacked graph for those plcasses who has survived for who have not survived. In the horizontal axis we have class Pclass 1 , 2 and 3 and the vertical axis we have count of the classes which survived and which did not survived. The data results shows that the Pclass 3 has the lowest survival rate while the occurence of the Pclass 3 is the most in the data. Out of almost more than 470 people only 119 people survived which is very. The class 1 has the highest level of survival rate if taking percentages. Out of 216 people 136 survived. This can be concluded that those who belong to class 1 have more chance to survived compare to other two classes. "
   ]
  },
  {
   "cell_type": "code",
   "execution_count": 5,
   "id": "d627dabe",
   "metadata": {
    "ExecuteTime": {
     "end_time": "2022-08-15T07:44:22.940484Z",
     "start_time": "2022-08-15T07:44:22.644521Z"
    }
   },
   "outputs": [
    {
     "data": {
      "text/plain": [
       "<matplotlib.legend.Legend at 0x7ff0b0ac2f70>"
      ]
     },
     "execution_count": 5,
     "metadata": {},
     "output_type": "execute_result"
    },
    {
     "data": {
      "image/png": "[encoded data removed]",
      "text/plain": [
       "<Figure size 432x288 with 1 Axes>"
      ]
     },
     "metadata": {
      "needs_background": "light"
     },
     "output_type": "display_data"
    }
   ],
   "source": [
    "death_counts = pd.crosstab(f.Pclass, f.Survived.astype(bool))\n",
    "ax = death_counts.plot(kind='bar', stacked=True, color=['#3EB6AD','#265E70'])\n",
    "for bar in ax.patches:\n",
    "    height = bar.get_height()\n",
    "    width = bar.get_width()\n",
    "    x = bar.get_x()\n",
    "    y = bar.get_y()\n",
    "    label_text = height\n",
    "    label_x = x + width / 2\n",
    "    label_y = y + height / 2\n",
    "    ax.text(label_x, label_y, label_text, ha='center',    \n",
    "            va='center')\n",
    "    \n",
    "ax.legend([\"Not Survived\", \"Survived\"])"
   ]
  },
  {
   "cell_type": "markdown",
   "id": "4ef2283a",
   "metadata": {},
   "source": [
    "### Part 2\n",
    "\n",
    "- In this section have taken the  exact percentage of survival rate of the each class. The data shows that the Pclass 1 has the highest survival rate with the percentage of more than 60%. If calculating probabilities of survival rate with the given data. The results shows that the class 1 people has the highest probability rate of survival compared to others. The results also indicates that the class 2 has the survival rate near to 50% which can be interpereted as the people belonging to class 2 has the 50% chance to survive. "
   ]
  },
  {
   "cell_type": "code",
   "execution_count": 6,
   "id": "107df6e9",
   "metadata": {
    "ExecuteTime": {
     "end_time": "2022-08-15T07:44:23.293754Z",
     "start_time": "2022-08-15T07:44:23.012284Z"
    }
   },
   "outputs": [
    {
     "data": {
      "image/png": "[encoded data removed]",
      "text/plain": [
       "<Figure size 432x288 with 1 Axes>"
      ]
     },
     "metadata": {
      "needs_background": "light"
     },
     "output_type": "display_data"
    }
   ],
   "source": [
    "death_counts_11= pd.crosstab([f.Pclass], f.Survived.astype(bool))\n",
    "death_counts_11_T = death_counts_11\n",
    "death_counts_11_T1 = death_counts_11_T.div(death_counts_11_T.sum(axis= 1), axis = 0)*100\n",
    "\n",
    "\n",
    "\n",
    "\n",
    "ax = death_counts_11_T1.plot(stacked=True, kind='barh')\n",
    "\n",
    "for bar in ax.patches:\n",
    "    height = bar.get_height()\n",
    "    width = bar.get_width()\n",
    "    x = bar.get_x()\n",
    "    y = bar.get_y()\n",
    "    label_text = round(width, 2)\n",
    "    label_x = x + width / 2\n",
    "    label_y = y + height / 2\n",
    "    ax.text(label_x, label_y, label_text, ha='center',    \n",
    "            va='center')\n",
    "    \n",
    "\n",
    "\n",
    "ax.legend([\"Not Survived\", \"Survived\"])\n",
    "plt.ylabel('Pclass')\n",
    "plt.xlabel('Percentage of Survial Rate')\n",
    "plt.title('Percentage of Pclass Survival Rate')\n",
    "\n",
    "plt.show()"
   ]
  },
  {
   "cell_type": "markdown",
   "id": "80fdda6b",
   "metadata": {},
   "source": [
    "### Part 3 \n",
    "- In this section we have taken displot of people survived or not with respect to their class and the results are same as they were for rest of the graphs. "
   ]
  },
  {
   "cell_type": "code",
   "execution_count": 7,
   "id": "85cc466c",
   "metadata": {
    "ExecuteTime": {
     "end_time": "2022-08-15T07:44:23.877206Z",
     "start_time": "2022-08-15T07:44:23.343613Z"
    }
   },
   "outputs": [
    {
     "data": {
      "image/png": "[encoded data removed]",
      "text/plain": [
       "<Figure size 411.875x360 with 1 Axes>"
      ]
     },
     "metadata": {
      "needs_background": "light"
     },
     "output_type": "display_data"
    }
   ],
   "source": [
    "ax = sns.displot(data=f, x=\"Pclass\", hue=\"Survived\", multiple=\"stack\")\n",
    "plt.xticks([1,2,3])\n",
    "plt.show()"
   ]
  },
  {
   "cell_type": "markdown",
   "id": "929debf5",
   "metadata": {},
   "source": [
    "### Part 4\n",
    "\n",
    "- In this section we have checked the survival rate with respect to the gender. The results describes that the male has only 20% survival chances while the female has roughly 75% survival rate. The results indicates that women has more survival rates than men. The data shows that women are more likely to survive comparing to women"
   ]
  },
  {
   "cell_type": "code",
   "execution_count": 8,
   "id": "333566b1",
   "metadata": {
    "ExecuteTime": {
     "end_time": "2022-08-15T07:44:24.352198Z",
     "start_time": "2022-08-15T07:44:24.057554Z"
    }
   },
   "outputs": [
    {
     "data": {
      "image/png": "[encoded data removed]",
      "text/plain": [
       "<Figure size 432x288 with 1 Axes>"
      ]
     },
     "metadata": {
      "needs_background": "light"
     },
     "output_type": "display_data"
    }
   ],
   "source": [
    "death_counts_12= pd.crosstab([f.Gender], f.Survived.astype(bool))\n",
    "death_counts_12_T = death_counts_12\n",
    "death_counts_12_T1 = death_counts_12_T.div(death_counts_12_T.sum(axis= 1), axis = 0)*100\n",
    "\n",
    "\n",
    "ax = death_counts_12_T1.plot(stacked=True, kind='barh')\n",
    "\n",
    "for bar in ax.patches:\n",
    "    height = bar.get_height()\n",
    "    width = bar.get_width()\n",
    "    x = bar.get_x()\n",
    "    y = bar.get_y()\n",
    "    width = round(width,2) \n",
    "    label_text = width\n",
    "    label_x = x + width / 2\n",
    "    label_y = y + height / 2\n",
    "    ax.text(label_x, label_y, label_text, ha='center',    \n",
    "            va='center')\n",
    "    \n",
    "\n",
    "\n",
    "ax.legend([\"Not Survived\", \"Survived\"])\n",
    "plt.ylabel('Gender')\n",
    "plt.xlabel('Percentage of Survial Rate')\n",
    "plt.title('Percentage of Gender wise Survival Rate')\n",
    "\n",
    "plt.show()"
   ]
  },
  {
   "cell_type": "markdown",
   "id": "59aed29b",
   "metadata": {},
   "source": [
    "## Q no 3\n",
    "- In this section we have created a count for survival rates for each age group considering the male and female. The results indicated that female with the age range of almost 20 to 50 has the highest survival rate. The data shows that women are more likely to survive, if their age is between 20-50. On the other hand when talking about men, It is very less likely for them survive considering all age groups. The survival rate for men is very low compared to women. In the male section, only 21-30 age group has a little survival rate which is considerable comparing to a very high survival rates of women. "
   ]
  },
  {
   "cell_type": "code",
   "execution_count": 9,
   "id": "089f8bb8",
   "metadata": {
    "ExecuteTime": {
     "end_time": "2022-08-15T07:44:25.132890Z",
     "start_time": "2022-08-15T07:44:24.354847Z"
    }
   },
   "outputs": [
    {
     "data": {
      "image/png": "[encoded data removed]",
      "text/plain": [
       "<Figure size 771.875x360 with 2 Axes>"
      ]
     },
     "metadata": {
      "needs_background": "light"
     },
     "output_type": "display_data"
    }
   ],
   "source": [
    "age_labels = ['0-10', '11-20', '21-30', '31-40', '41-50', '51-60', '61-70', '71-80']\n",
    "#use pandas cut to bin the continuous variable age\n",
    "f['age_group'] = pd.cut(f.Age, range(0, 81, 10), labels=age_labels)\n",
    "\n",
    "ax = sns.displot(data=f, x=\"age_group\", hue=\"Survived\", col = 'Gender', multiple=\"stack\")"
   ]
  },
  {
   "cell_type": "markdown",
   "id": "18ce9ad8",
   "metadata": {},
   "source": [
    "## Qno 4\n",
    "- In this section have tried to find out the highest number of passenger class people. The data shows that the pclass 3 has the most occurence in the data set. "
   ]
  },
  {
   "cell_type": "code",
   "execution_count": 10,
   "id": "56887825",
   "metadata": {
    "ExecuteTime": {
     "end_time": "2022-08-15T07:44:25.235192Z",
     "start_time": "2022-08-15T07:44:25.135346Z"
    }
   },
   "outputs": [
    {
     "data": {
      "image/png": "[encoded data removed]",
      "text/plain": [
       "<Figure size 432x288 with 1 Axes>"
      ]
     },
     "metadata": {},
     "output_type": "display_data"
    }
   ],
   "source": [
    "pie = f['Pclass'].value_counts().rename_axis('Subclass').reset_index(name = 'counts')\n",
    "labels = pie.Subclass\n",
    "values = pie.counts\n",
    "explode = [0.1,0,0]\n",
    "fig = plt.figure()\n",
    "ax = fig.add_axes([0,0,1,1])\n",
    "ax.pie(values, labels = labels, autopct = '%1.2f%%', explode = explode)\n",
    "plt.title(\"Distribution of Pclass in Percentage\")\n",
    "plt.show()"
   ]
  },
  {
   "cell_type": "markdown",
   "id": "d87168c6",
   "metadata": {},
   "source": [
    "## Qno 5\n",
    "### Part 1 \n",
    "- The Frequency of Parents/Children Aboard by Parents/Children Aboard shows those passensers who had Parents/Children Aboard between 0 to 2 has more frequency as compared to others."
   ]
  },
  {
   "cell_type": "code",
   "execution_count": 11,
   "id": "4df84677",
   "metadata": {
    "ExecuteTime": {
     "end_time": "2022-08-15T07:44:25.843393Z",
     "start_time": "2022-08-15T07:44:25.593836Z"
    }
   },
   "outputs": [
    {
     "data": {
      "text/plain": [
       "[Text(0, 0, '813'), Text(0, 0, '44'), Text(0, 0, '23'), Text(0, 0, '7')]"
      ]
     },
     "execution_count": 11,
     "metadata": {},
     "output_type": "execute_result"
    },
    {
     "data": {
      "image/png": "[encoded data removed]",
      "text/plain": [
       "<Figure size 432x288 with 1 Axes>"
      ]
     },
     "metadata": {
      "needs_background": "light"
     },
     "output_type": "display_data"
    }
   ],
   "source": [
    "counts, edges, bars = plt.hist(f['Siblings/Spouses Aboard'], bins=4, color=\"#1783A5\")\n",
    "plt.bar_label(bars)\n"
   ]
  },
  {
   "cell_type": "markdown",
   "id": "ebe52cfe",
   "metadata": {},
   "source": [
    "### Part 2 \n",
    "- The tallest bar in Parents/Children aboard representing a bin between 0 to 2 shows 792 passengers, while 2nd bin between 2 to 4 shows 85 passengers and 3rd bin is between 4 to 6 shows 10 passengers.\n"
   ]
  },
  {
   "cell_type": "code",
   "execution_count": 12,
   "id": "f023d86b",
   "metadata": {
    "ExecuteTime": {
     "end_time": "2022-08-15T07:44:27.350315Z",
     "start_time": "2022-08-15T07:44:27.023706Z"
    }
   },
   "outputs": [
    {
     "data": {
      "text/plain": [
       "[Text(0, 0, '792'), Text(0, 0, '85'), Text(0, 0, '10')]"
      ]
     },
     "execution_count": 12,
     "metadata": {},
     "output_type": "execute_result"
    },
    {
     "data": {
      "image/png": "[encoded data removed]",
      "text/plain": [
       "<Figure size 432x288 with 1 Axes>"
      ]
     },
     "metadata": {
      "needs_background": "light"
     },
     "output_type": "display_data"
    }
   ],
   "source": [
    "counts, edges, bars = plt.hist(f['Parents/Children Aboard'], bins=3, edgecolor=\"blue\", color=\"#2AA25F\")\n",
    "plt.bar_label(bars)"
   ]
  },
  {
   "cell_type": "markdown",
   "id": "6ebb197f",
   "metadata": {},
   "source": [
    "## Qno 6 \n",
    "- In this section we have created a box plot of the data in terms of their sibling or spouse aboard, We have checked the survival rate of each ss_group of sibling or spouse aboard. The data shows that if 1 or 2 sibling/spouse aboard, their is a high chance of survival rate. On the other hand if there are more 3 to 6 sibling spouse aboard and the age is between 15-25, there is a high chance of survival rate. The people whose 7 or 8 siblings are aboard have 0 chance of survival rates."
   ]
  },
  {
   "cell_type": "code",
   "execution_count": 13,
   "id": "7e72597f",
   "metadata": {
    "ExecuteTime": {
     "end_time": "2022-08-15T07:44:30.056257Z",
     "start_time": "2022-08-15T07:44:29.690151Z"
    }
   },
   "outputs": [
    {
     "data": {
      "image/png": "[encoded data removed]",
      "text/plain": [
       "<Figure size 432x288 with 1 Axes>"
      ]
     },
     "metadata": {
      "needs_background": "light"
     },
     "output_type": "display_data"
    }
   ],
   "source": [
    "# create a list of our conditions\n",
    "conditions = [\n",
    "    (f['Siblings/Spouses Aboard'] == 0),\n",
    "    (f['Siblings/Spouses Aboard'] > 0) & (f['Siblings/Spouses Aboard'] <=2),\n",
    "    (f['Siblings/Spouses Aboard'] > 2) & (f['Siblings/Spouses Aboard'] <= 6),\n",
    "    (f['Siblings/Spouses Aboard'] > 6)\n",
    "    ]\n",
    "\n",
    "# create a list of the values we want to assign for each condition\n",
    "values = ['0', '1-2', '3-6','7-8']\n",
    "\n",
    "# create a new column and use np.select to assign values to it using our lists as arguments\n",
    "f['ss_group'] = np.select(conditions, values)\n",
    "ax = sns.boxplot(x=\"ss_group\", y=\"Age\", hue=\"Survived\",data=f, palette=\"Set3\")"
   ]
  },
  {
   "cell_type": "markdown",
   "id": "9f60c7e4",
   "metadata": {},
   "source": [
    "## Qno 7\n",
    "\n",
    "- The scatter plot shows that the female with 0 1  and 2 sibling spouse abroad and mostly belonging to pclass 1 and 2 have most survival rates. The The results also indicates that male with 1 or 2 sibling spouse aboard have high survival rates. The lowest survival rate is when 3 to 8 siblings aboard and gender is male and most of the people belong pclass 3.The 100% non survival rate is when the gender is female and 7-8 siblings are aboard."
   ]
  },
  {
   "cell_type": "code",
   "execution_count": 15,
   "id": "3f8cae68",
   "metadata": {
    "ExecuteTime": {
     "end_time": "2022-08-15T07:45:17.268927Z",
     "start_time": "2022-08-15T07:45:15.932462Z"
    }
   },
   "outputs": [
    {
     "data": {
      "text/plain": [
       "<seaborn.axisgrid.FacetGrid at 0x7ff0b0b2aee0>"
      ]
     },
     "execution_count": 15,
     "metadata": {},
     "output_type": "execute_result"
    },
    {
     "data": {
      "image/png": "[encoded data removed]",
      "text/plain": [
       "<Figure size 779.875x360 with 2 Axes>"
      ]
     },
     "metadata": {
      "needs_background": "light"
     },
     "output_type": "display_data"
    }
   ],
   "source": [
    "df1 = f.loc[f['Age'] <= 20]\n",
    "sns.relplot(data=df1, x=\"ss_group\", y=\"Age\", hue=\"Survived\", col=\"Gender\", size = 'Fare', style= 'Pclass')"
   ]
  },
  {
   "cell_type": "markdown",
   "id": "9da619be",
   "metadata": {},
   "source": [
    "## Qno 8"
   ]
  },
  {
   "cell_type": "code",
   "execution_count": 29,
   "id": "028fdd7a",
   "metadata": {
    "ExecuteTime": {
     "end_time": "2022-08-15T08:09:29.899932Z",
     "start_time": "2022-08-15T08:09:29.278590Z"
    }
   },
   "outputs": [
    {
     "data": {
      "text/plain": [
       "<AxesSubplot:xlabel='Age', ylabel='Fare'>"
      ]
     },
     "execution_count": 29,
     "metadata": {},
     "output_type": "execute_result"
    },
    {
     "data": {
      "image/png": "[encoded data removed]",
      "text/plain": [
       "<Figure size 432x288 with 1 Axes>"
      ]
     },
     "metadata": {
      "needs_background": "light"
     },
     "output_type": "display_data"
    }
   ],
   "source": [
    "sns.scatterplot(x = 'Age', y = 'Fare', style = 'ss_group', hue = 'Survived', data = f, s = 150)"
   ]
  },
  {
   "cell_type": "markdown",
   "id": "da06034a",
   "metadata": {},
   "source": [
    "## Q no 9 \n",
    "### Part 1\n",
    "\n",
    "- The results shows that when the there are 0 or 1 sibling aboard and the age is less than 10, The survival rate is higher than 60%. The survival rate is 100 percent then the age is 21-30 or 51-60 and 3 parents of children are aboard. "
   ]
  },
  {
   "cell_type": "code",
   "execution_count": 22,
   "id": "fc4eed50",
   "metadata": {
    "ExecuteTime": {
     "end_time": "2022-08-15T07:46:21.880733Z",
     "start_time": "2022-08-15T07:46:21.457829Z"
    }
   },
   "outputs": [
    {
     "data": {
      "text/plain": [
       "<AxesSubplot:xlabel='Parents/Children Aboard', ylabel='age_group'>"
      ]
     },
     "execution_count": 22,
     "metadata": {},
     "output_type": "execute_result"
    },
    {
     "data": {
      "image/png": "[encoded data removed]",
      "text/plain": [
       "<Figure size 432x288 with 2 Axes>"
      ]
     },
     "metadata": {
      "needs_background": "light"
     },
     "output_type": "display_data"
    }
   ],
   "source": [
    "pivoted11 = f.pivot_table(index=\"age_group\", columns=\"Parents/Children Aboard\", values=\"Survived\")\n",
    "columns = [0, 1, 2, 3, 4, 5, 8]\n",
    "pivoted12 = pivoted11.copy()\n",
    "sns.heatmap(pivoted12, annot=True, mask=(pivoted12 < 0.6), cmap=\"YlGnBu\")"
   ]
  },
  {
   "cell_type": "markdown",
   "id": "241b16a4",
   "metadata": {},
   "source": [
    "### Part 2 \n",
    "\n",
    "- The results shows that when the age is between 21-40 and 3 sibling or spouse aboard the survival rate is 100%. The survival rate is greater than 60% when the age is between 0-10 and 0, 1 and 2 sibling spouse aboard. "
   ]
  },
  {
   "cell_type": "code",
   "execution_count": 27,
   "id": "80de26a5",
   "metadata": {
    "ExecuteTime": {
     "end_time": "2022-08-15T07:47:52.926358Z",
     "start_time": "2022-08-15T07:47:52.467613Z"
    }
   },
   "outputs": [
    {
     "data": {
      "text/plain": [
       "<AxesSubplot:xlabel='Siblings/Spouses Aboard', ylabel='age_group'>"
      ]
     },
     "execution_count": 27,
     "metadata": {},
     "output_type": "execute_result"
    },
    {
     "data": {
      "image/png": "[encoded data removed]",
      "text/plain": [
       "<Figure size 432x288 with 2 Axes>"
      ]
     },
     "metadata": {
      "needs_background": "light"
     },
     "output_type": "display_data"
    }
   ],
   "source": [
    "pivoted = f.pivot_table(index=\"age_group\", columns=\"Siblings/Spouses Aboard\", values=\"Survived\")\n",
    "columns = [0, 1, 2, 3, 4, 5, 8]\n",
    "pivoted1 = pivoted.copy()\n",
    "sns.heatmap(pivoted1, annot=True, mask=(pivoted1 < 0.6), cmap=\"YlGnBu\")"
   ]
  },
  {
   "cell_type": "markdown",
   "id": "75186a7d",
   "metadata": {},
   "source": [
    "## Q no 10\n",
    "\n",
    "- In This section we have taken the people with age lower than 20 and check if their 0,1 or more parents or children are abroad then what is the gender wise survival rate. The results for 0 parents or children abroad and age lower than 20 shows that female has more chances to live. On the other hand when we see the case for 1 or more parents or children abroad, the data shows the same story that the women survived more. This shows that no matter how many parents or children are abroad, the highest ratio for survival rate will be of women given the age lower than 20. "
   ]
  },
  {
   "cell_type": "code",
   "execution_count": 28,
   "id": "ee428959",
   "metadata": {
    "ExecuteTime": {
     "end_time": "2022-08-15T07:47:59.037378Z",
     "start_time": "2022-08-15T07:47:57.941682Z"
    }
   },
   "outputs": [
    {
     "data": {
      "application/vnd.plotly.v1+json": {
       "config": {
        "plotlyServerURL": "https://plot.ly"
       },
       "data": [
        {
         "hovertemplate": "Parents/Children Aboard=%{x}<br>Age=%{y}<br>Gender=%{z}<br>Survived=%{marker.color}<extra></extra>",
         "legendgroup": "",
         "marker": {
          "color": [
           0,
           1,
           1,
           0,
           0,
           0,
           1,
           0,
           0,
           1,
           1,
           0,
           1,
           1,
           1,
           0,
           0,
           0,
           0,
           1,
           0,
           0,
           1,
           0,
           1,
           0,
           1,
           1,
           0,
           0,
           0,
           0,
           0,
           0,
           0,
           0,
           1,
           0,
           1,
           0,
           1,
           0,
           0,
           0,
           0,
           0,
           1,
           0,
           0,
           0,
           1,
           0,
           1,
           0,
           0,
           0,
           0,
           1,
           1,
           0,
           1,
           1,
           0,
           1,
           0,
           1,
           1,
           1,
           0,
           0,
           1,
           1,
           0,
           0,
           1,
           0,
           1,
           0,
           0,
           0,
           1,
           1,
           0,
           1,
           0,
           1,
           1,
           1,
           0,
           1,
           0,
           1,
           1,
           0,
           0,
           0,
           0,
           0,
           0,
           1,
           0,
           0,
           0,
           1,
           0,
           1,
           0,
           1,
           0,
           0,
           1,
           0,
           1,
           0,
           1,
           1,
           1,
           0,
           1,
           1,
           0,
           0,
           1,
           0,
           0,
           1,
           0,
           0,
           1,
           0,
           0,
           1,
           0,
           0,
           1,
           1,
           1,
           0,
           0,
           0,
           0,
           0,
           1,
           0,
           1,
           1,
           1,
           0,
           0,
           0,
           0,
           1,
           0,
           1,
           1,
           0,
           1,
           0,
           0,
           1,
           0,
           0,
           0,
           0,
           0,
           1,
           1,
           1,
           1,
           0,
           1,
           0,
           1,
           0,
           0,
           0,
           0,
           0,
           0,
           1,
           1,
           1,
           0,
           1,
           0,
           0,
           0,
           1,
           1,
           1,
           1,
           0,
           1,
           0,
           0,
           1,
           1,
           0,
           0,
           0,
           0,
           1,
           1,
           1,
           1,
           0,
           0,
           0,
           0,
           0,
           0,
           0,
           0,
           1,
           1,
           0,
           1,
           1,
           0,
           0,
           1,
           0
          ],
          "coloraxis": "coloraxis",
          "symbol": "circle"
         },
         "mode": "markers",
         "name": "",
         "scene": "scene",
         "showlegend": false,
         "type": "scatter3d",
         "x": [
          1,
          0,
          1,
          0,
          0,
          1,
          0,
          1,
          2,
          0,
          0,
          0,
          0,
          2,
          0,
          0,
          0,
          0,
          1,
          2,
          2,
          2,
          1,
          0,
          2,
          2,
          2,
          0,
          3,
          0,
          0,
          0,
          0,
          0,
          2,
          0,
          0,
          0,
          1,
          0,
          2,
          0,
          0,
          0,
          1,
          2,
          0,
          2,
          0,
          1,
          2,
          1,
          1,
          1,
          1,
          2,
          2,
          1,
          2,
          0,
          0,
          1,
          2,
          0,
          1,
          0,
          0,
          0,
          0,
          1,
          2,
          2,
          0,
          0,
          0,
          0,
          2,
          1,
          1,
          0,
          0,
          0,
          2,
          0,
          0,
          2,
          0,
          2,
          2,
          1,
          0,
          1,
          1,
          1,
          0,
          0,
          1,
          0,
          0,
          2,
          0,
          2,
          0,
          0,
          0,
          1,
          1,
          2,
          2,
          1,
          0,
          0,
          2,
          0,
          2,
          1,
          1,
          0,
          1,
          1,
          2,
          1,
          1,
          0,
          0,
          0,
          0,
          0,
          1,
          0,
          1,
          2,
          2,
          2,
          0,
          1,
          2,
          0,
          0,
          0,
          0,
          0,
          2,
          0,
          0,
          1,
          1,
          0,
          2,
          0,
          2,
          1,
          0,
          1,
          0,
          0,
          0,
          0,
          0,
          0,
          0,
          2,
          1,
          0,
          0,
          1,
          1,
          0,
          0,
          1,
          1,
          0,
          1,
          0,
          0,
          0,
          0,
          1,
          0,
          1,
          1,
          1,
          0,
          0,
          0,
          0,
          0,
          0,
          0,
          0,
          0,
          1,
          2,
          0,
          0,
          2,
          1,
          0,
          2,
          2,
          1,
          2,
          0,
          0,
          1,
          0,
          0,
          0,
          0,
          0,
          2,
          2,
          1,
          1,
          1,
          2,
          1,
          0,
          0,
          0,
          0,
          2
         ],
         "y": [
          2,
          14,
          4,
          20,
          14,
          2,
          15,
          8,
          19,
          18,
          18,
          18,
          14,
          3,
          19,
          20,
          16,
          18,
          7,
          5,
          11,
          4,
          7,
          19,
          17,
          16,
          0.83,
          17,
          16,
          20,
          20,
          14.5,
          20,
          17,
          2,
          19,
          12,
          19,
          2,
          20,
          19,
          16,
          19,
          18,
          19,
          9,
          16,
          5,
          17,
          1,
          9,
          4,
          1,
          18,
          5,
          8,
          9,
          1,
          4,
          19,
          19,
          3,
          17,
          18,
          2,
          16,
          16,
          19,
          18,
          12,
          5,
          8,
          19,
          19,
          18,
          18,
          3,
          16,
          7,
          16,
          19,
          19,
          2,
          20,
          19,
          0.92,
          17,
          18,
          20,
          16,
          16,
          2,
          3,
          15,
          18,
          19,
          3,
          20,
          19,
          1,
          18,
          1,
          19,
          17,
          20,
          3,
          3,
          18,
          10,
          18,
          19,
          17,
          14,
          20,
          4,
          13,
          5,
          17,
          0.75,
          2,
          9,
          8,
          9,
          19,
          17,
          16,
          18,
          18,
          2,
          17,
          17,
          7,
          9,
          11,
          19,
          8,
          17,
          19,
          16,
          19,
          18,
          16,
          18,
          18,
          18,
          4,
          20,
          18,
          9,
          20,
          2,
          0.75,
          19,
          18,
          16,
          18,
          20,
          19,
          18,
          18,
          20,
          14,
          14,
          19,
          18,
          15,
          4,
          19,
          18,
          18,
          4,
          19,
          6,
          17,
          20,
          11,
          20,
          16,
          19,
          4,
          6,
          0.67,
          18,
          20,
          16,
          18,
          20,
          5,
          13,
          17,
          18,
          8,
          1,
          20,
          16,
          11,
          0.42,
          18,
          6,
          10,
          2,
          1,
          19,
          15,
          0.83,
          18,
          20,
          20,
          16,
          17,
          18,
          4,
          9,
          16,
          18,
          14,
          4,
          15,
          20,
          19,
          19,
          7
         ],
         "z": [
          "male",
          "female",
          "female",
          "male",
          "female",
          "male",
          "female",
          "female",
          "male",
          "female",
          "male",
          "female",
          "female",
          "female",
          "female",
          "male",
          "male",
          "female",
          "male",
          "female",
          "male",
          "male",
          "male",
          "male",
          "female",
          "female",
          "male",
          "female",
          "male",
          "male",
          "male",
          "female",
          "female",
          "female",
          "female",
          "male",
          "male",
          "male",
          "female",
          "male",
          "female",
          "male",
          "male",
          "male",
          "male",
          "female",
          "female",
          "male",
          "male",
          "male",
          "male",
          "male",
          "female",
          "male",
          "male",
          "female",
          "male",
          "male",
          "female",
          "male",
          "female",
          "male",
          "male",
          "male",
          "female",
          "female",
          "male",
          "male",
          "male",
          "female",
          "female",
          "female",
          "male",
          "female",
          "female",
          "male",
          "male",
          "male",
          "male",
          "male",
          "male",
          "female",
          "female",
          "female",
          "male",
          "male",
          "female",
          "female",
          "male",
          "female",
          "male",
          "male",
          "male",
          "male",
          "male",
          "male",
          "female",
          "male",
          "male",
          "female",
          "male",
          "male",
          "male",
          "female",
          "female",
          "male",
          "female",
          "female",
          "female",
          "male",
          "female",
          "male",
          "female",
          "male",
          "male",
          "female",
          "female",
          "male",
          "female",
          "female",
          "male",
          "female",
          "male",
          "male",
          "male",
          "female",
          "male",
          "male",
          "female",
          "male",
          "male",
          "female",
          "female",
          "female",
          "female",
          "male",
          "male",
          "male",
          "male",
          "male",
          "female",
          "male",
          "female",
          "male",
          "female",
          "female",
          "male",
          "male",
          "female",
          "male",
          "female",
          "female",
          "male",
          "female",
          "female",
          "female",
          "male",
          "male",
          "male",
          "female",
          "male",
          "male",
          "male",
          "male",
          "male",
          "female",
          "female",
          "female",
          "female",
          "female",
          "male",
          "male",
          "female",
          "male",
          "male",
          "male",
          "male",
          "male",
          "male",
          "female",
          "male",
          "male",
          "male",
          "male",
          "male",
          "male",
          "male",
          "female",
          "female",
          "female",
          "female",
          "male",
          "male",
          "male",
          "male",
          "male",
          "male",
          "female",
          "female",
          "male",
          "male",
          "male",
          "male",
          "female",
          "male",
          "male",
          "male",
          "male",
          "male",
          "male",
          "male",
          "male",
          "female",
          "female",
          "female",
          "female",
          "male",
          "female",
          "male",
          "male",
          "female",
          "female"
         ]
        }
       ],
       "layout": {
        "coloraxis": {
         "colorbar": {
          "title": {
           "text": "Survived"
          }
         },
         "colorscale": [
          [
           0,
           "#0d0887"
          ],
          [
           0.1111111111111111,
           "#46039f"
          ],
          [
           0.2222222222222222,
           "#7201a8"
          ],
          [
           0.3333333333333333,
           "#9c179e"
          ],
          [
           0.4444444444444444,
           "#bd3786"
          ],
          [
           0.5555555555555556,
           "#d8576b"
          ],
          [
           0.6666666666666666,
           "#ed7953"
          ],
          [
           0.7777777777777778,
           "#fb9f3a"
          ],
          [
           0.8888888888888888,
           "#fdca26"
          ],
          [
           1,
           "#f0f921"
          ]
         ]
        },
        "legend": {
         "tracegroupgap": 0
        },
        "margin": {
         "t": 60
        },
        "scene": {
         "domain": {
          "x": [
           0,
           1
          ],
          "y": [
           0,
           1
          ]
         },
         "xaxis": {
          "title": {
           "text": "Parents/Children Aboard"
          }
         },
         "yaxis": {
          "title": {
           "text": "Age"
          }
         },
         "zaxis": {
          "title": {
           "text": "Gender"
          }
         }
        },
        "template": {
         "data": {
          "bar": [
           {
            "error_x": {
             "color": "#2a3f5f"
            },
            "error_y": {
             "color": "#2a3f5f"
            },
            "marker": {
             "line": {
              "color": "#E5ECF6",
              "width": 0.5
             },
             "pattern": {
              "fillmode": "overlay",
              "size": 10,
              "solidity": 0.2
             }
            },
            "type": "bar"
           }
          ],
          "barpolar": [
           {
            "marker": {
             "line": {
              "color": "#E5ECF6",
              "width": 0.5
             },
             "pattern": {
              "fillmode": "overlay",
              "size": 10,
              "solidity": 0.2
             }
            },
            "type": "barpolar"
           }
          ],
          "carpet": [
           {
            "aaxis": {
             "endlinecolor": "#2a3f5f",
             "gridcolor": "white",
             "linecolor": "white",
             "minorgridcolor": "white",
             "startlinecolor": "#2a3f5f"
            },
            "baxis": {
             "endlinecolor": "#2a3f5f",
             "gridcolor": "white",
             "linecolor": "white",
             "minorgridcolor": "white",
             "startlinecolor": "#2a3f5f"
            },
            "type": "carpet"
           }
          ],
          "choropleth": [
           {
            "colorbar": {
             "outlinewidth": 0,
             "ticks": ""
            },
            "type": "choropleth"
           }
          ],
          "contour": [
           {
            "colorbar": {
             "outlinewidth": 0,
             "ticks": ""
            },
            "colorscale": [
             [
              0,
              "#0d0887"
             ],
             [
              0.1111111111111111,
              "#46039f"
             ],
             [
              0.2222222222222222,
              "#7201a8"
             ],
             [
              0.3333333333333333,
              "#9c179e"
             ],
             [
              0.4444444444444444,
              "#bd3786"
             ],
             [
              0.5555555555555556,
              "#d8576b"
             ],
             [
              0.6666666666666666,
              "#ed7953"
             ],
             [
              0.7777777777777778,
              "#fb9f3a"
             ],
             [
              0.8888888888888888,
              "#fdca26"
             ],
             [
              1,
              "#f0f921"
             ]
            ],
            "type": "contour"
           }
          ],
          "contourcarpet": [
           {
            "colorbar": {
             "outlinewidth": 0,
             "ticks": ""
            },
            "type": "contourcarpet"
           }
          ],
          "heatmap": [
           {
            "colorbar": {
             "outlinewidth": 0,
             "ticks": ""
            },
            "colorscale": [
             [
              0,
              "#0d0887"
             ],
             [
              0.1111111111111111,
              "#46039f"
             ],
             [
              0.2222222222222222,
              "#7201a8"
             ],
             [
              0.3333333333333333,
              "#9c179e"
             ],
             [
              0.4444444444444444,
              "#bd3786"
             ],
             [
              0.5555555555555556,
              "#d8576b"
             ],
             [
              0.6666666666666666,
              "#ed7953"
             ],
             [
              0.7777777777777778,
              "#fb9f3a"
             ],
             [
              0.8888888888888888,
              "#fdca26"
             ],
             [
              1,
              "#f0f921"
             ]
            ],
            "type": "heatmap"
           }
          ],
          "heatmapgl": [
           {
            "colorbar": {
             "outlinewidth": 0,
             "ticks": ""
            },
            "colorscale": [
             [
              0,
              "#0d0887"
             ],
             [
              0.1111111111111111,
              "#46039f"
             ],
             [
              0.2222222222222222,
              "#7201a8"
             ],
             [
              0.3333333333333333,
              "#9c179e"
             ],
             [
              0.4444444444444444,
              "#bd3786"
             ],
             [
              0.5555555555555556,
              "#d8576b"
             ],
             [
              0.6666666666666666,
              "#ed7953"
             ],
             [
              0.7777777777777778,
              "#fb9f3a"
             ],
             [
              0.8888888888888888,
              "#fdca26"
             ],
             [
              1,
              "#f0f921"
             ]
            ],
            "type": "heatmapgl"
           }
          ],
          "histogram": [
           {
            "marker": {
             "pattern": {
              "fillmode": "overlay",
              "size": 10,
              "solidity": 0.2
             }
            },
            "type": "histogram"
           }
          ],
          "histogram2d": [
           {
            "colorbar": {
             "outlinewidth": 0,
             "ticks": ""
            },
            "colorscale": [
             [
              0,
              "#0d0887"
             ],
             [
              0.1111111111111111,
              "#46039f"
             ],
             [
              0.2222222222222222,
              "#7201a8"
             ],
             [
              0.3333333333333333,
              "#9c179e"
             ],
             [
              0.4444444444444444,
              "#bd3786"
             ],
             [
              0.5555555555555556,
              "#d8576b"
             ],
             [
              0.6666666666666666,
              "#ed7953"
             ],
             [
              0.7777777777777778,
              "#fb9f3a"
             ],
             [
              0.8888888888888888,
              "#fdca26"
             ],
             [
              1,
              "#f0f921"
             ]
            ],
            "type": "histogram2d"
           }
          ],
          "histogram2dcontour": [
           {
            "colorbar": {
             "outlinewidth": 0,
             "ticks": ""
            },
            "colorscale": [
             [
              0,
              "#0d0887"
             ],
             [
              0.1111111111111111,
              "#46039f"
             ],
             [
              0.2222222222222222,
              "#7201a8"
             ],
             [
              0.3333333333333333,
              "#9c179e"
             ],
             [
              0.4444444444444444,
              "#bd3786"
             ],
             [
              0.5555555555555556,
              "#d8576b"
             ],
             [
              0.6666666666666666,
              "#ed7953"
             ],
             [
              0.7777777777777778,
              "#fb9f3a"
             ],
             [
              0.8888888888888888,
              "#fdca26"
             ],
             [
              1,
              "#f0f921"
             ]
            ],
            "type": "histogram2dcontour"
           }
          ],
          "mesh3d": [
           {
            "colorbar": {
             "outlinewidth": 0,
             "ticks": ""
            },
            "type": "mesh3d"
           }
          ],
          "parcoords": [
           {
            "line": {
             "colorbar": {
              "outlinewidth": 0,
              "ticks": ""
             }
            },
            "type": "parcoords"
           }
          ],
          "pie": [
           {
            "automargin": true,
            "type": "pie"
           }
          ],
          "scatter": [
           {
            "fillpattern": {
             "fillmode": "overlay",
             "size": 10,
             "solidity": 0.2
            },
            "type": "scatter"
           }
          ],
          "scatter3d": [
           {
            "line": {
             "colorbar": {
              "outlinewidth": 0,
              "ticks": ""
             }
            },
            "marker": {
             "colorbar": {
              "outlinewidth": 0,
              "ticks": ""
             }
            },
            "type": "scatter3d"
           }
          ],
          "scattercarpet": [
           {
            "marker": {
             "colorbar": {
              "outlinewidth": 0,
              "ticks": ""
             }
            },
            "type": "scattercarpet"
           }
          ],
          "scattergeo": [
           {
            "marker": {
             "colorbar": {
              "outlinewidth": 0,
              "ticks": ""
             }
            },
            "type": "scattergeo"
           }
          ],
          "scattergl": [
           {
            "marker": {
             "colorbar": {
              "outlinewidth": 0,
              "ticks": ""
             }
            },
            "type": "scattergl"
           }
          ],
          "scattermapbox": [
           {
            "marker": {
             "colorbar": {
              "outlinewidth": 0,
              "ticks": ""
             }
            },
            "type": "scattermapbox"
           }
          ],
          "scatterpolar": [
           {
            "marker": {
             "colorbar": {
              "outlinewidth": 0,
              "ticks": ""
             }
            },
            "type": "scatterpolar"
           }
          ],
          "scatterpolargl": [
           {
            "marker": {
             "colorbar": {
              "outlinewidth": 0,
              "ticks": ""
             }
            },
            "type": "scatterpolargl"
           }
          ],
          "scatterternary": [
           {
            "marker": {
             "colorbar": {
              "outlinewidth": 0,
              "ticks": ""
             }
            },
            "type": "scatterternary"
           }
          ],
          "surface": [
           {
            "colorbar": {
             "outlinewidth": 0,
             "ticks": ""
            },
            "colorscale": [
             [
              0,
              "#0d0887"
             ],
             [
              0.1111111111111111,
              "#46039f"
             ],
             [
              0.2222222222222222,
              "#7201a8"
             ],
             [
              0.3333333333333333,
              "#9c179e"
             ],
             [
              0.4444444444444444,
              "#bd3786"
             ],
             [
              0.5555555555555556,
              "#d8576b"
             ],
             [
              0.6666666666666666,
              "#ed7953"
             ],
             [
              0.7777777777777778,
              "#fb9f3a"
             ],
             [
              0.8888888888888888,
              "#fdca26"
             ],
             [
              1,
              "#f0f921"
             ]
            ],
            "type": "surface"
           }
          ],
          "table": [
           {
            "cells": {
             "fill": {
              "color": "#EBF0F8"
             },
             "line": {
              "color": "white"
             }
            },
            "header": {
             "fill": {
              "color": "#C8D4E3"
             },
             "line": {
              "color": "white"
             }
            },
            "type": "table"
           }
          ]
         },
         "layout": {
          "annotationdefaults": {
           "arrowcolor": "#2a3f5f",
           "arrowhead": 0,
           "arrowwidth": 1
          },
          "autotypenumbers": "strict",
          "coloraxis": {
           "colorbar": {
            "outlinewidth": 0,
            "ticks": ""
           }
          },
          "colorscale": {
           "diverging": [
            [
             0,
             "#8e0152"
            ],
            [
             0.1,
             "#c51b7d"
            ],
            [
             0.2,
             "#de77ae"
            ],
            [
             0.3,
             "#f1b6da"
            ],
            [
             0.4,
             "#fde0ef"
            ],
            [
             0.5,
             "#f7f7f7"
            ],
            [
             0.6,
             "#e6f5d0"
            ],
            [
             0.7,
             "#b8e186"
            ],
            [
             0.8,
             "#7fbc41"
            ],
            [
             0.9,
             "#4d9221"
            ],
            [
             1,
             "#276419"
            ]
           ],
           "sequential": [
            [
             0,
             "#0d0887"
            ],
            [
             0.1111111111111111,
             "#46039f"
            ],
            [
             0.2222222222222222,
             "#7201a8"
            ],
            [
             0.3333333333333333,
             "#9c179e"
            ],
            [
             0.4444444444444444,
             "#bd3786"
            ],
            [
             0.5555555555555556,
             "#d8576b"
            ],
            [
             0.6666666666666666,
             "#ed7953"
            ],
            [
             0.7777777777777778,
             "#fb9f3a"
            ],
            [
             0.8888888888888888,
             "#fdca26"
            ],
            [
             1,
             "#f0f921"
            ]
           ],
           "sequentialminus": [
            [
             0,
             "#0d0887"
            ],
            [
             0.1111111111111111,
             "#46039f"
            ],
            [
             0.2222222222222222,
             "#7201a8"
            ],
            [
             0.3333333333333333,
             "#9c179e"
            ],
            [
             0.4444444444444444,
             "#bd3786"
            ],
            [
             0.5555555555555556,
             "#d8576b"
            ],
            [
             0.6666666666666666,
             "#ed7953"
            ],
            [
             0.7777777777777778,
             "#fb9f3a"
            ],
            [
             0.8888888888888888,
             "#fdca26"
            ],
            [
             1,
             "#f0f921"
            ]
           ]
          },
          "colorway": [
           "#636efa",
           "#EF553B",
           "#00cc96",
           "#ab63fa",
           "#FFA15A",
           "#19d3f3",
           "#FF6692",
           "#B6E880",
           "#FF97FF",
           "#FECB52"
          ],
          "font": {
           "color": "#2a3f5f"
          },
          "geo": {
           "bgcolor": "white",
           "lakecolor": "white",
           "landcolor": "#E5ECF6",
           "showlakes": true,
           "showland": true,
           "subunitcolor": "white"
          },
          "hoverlabel": {
           "align": "left"
          },
          "hovermode": "closest",
          "mapbox": {
           "style": "light"
          },
          "paper_bgcolor": "white",
          "plot_bgcolor": "#E5ECF6",
          "polar": {
           "angularaxis": {
            "gridcolor": "white",
            "linecolor": "white",
            "ticks": ""
           },
           "bgcolor": "#E5ECF6",
           "radialaxis": {
            "gridcolor": "white",
            "linecolor": "white",
            "ticks": ""
           }
          },
          "scene": {
           "xaxis": {
            "backgroundcolor": "#E5ECF6",
            "gridcolor": "white",
            "gridwidth": 2,
            "linecolor": "white",
            "showbackground": true,
            "ticks": "",
            "zerolinecolor": "white"
           },
           "yaxis": {
            "backgroundcolor": "#E5ECF6",
            "gridcolor": "white",
            "gridwidth": 2,
            "linecolor": "white",
            "showbackground": true,
            "ticks": "",
            "zerolinecolor": "white"
           },
           "zaxis": {
            "backgroundcolor": "#E5ECF6",
            "gridcolor": "white",
            "gridwidth": 2,
            "linecolor": "white",
            "showbackground": true,
            "ticks": "",
            "zerolinecolor": "white"
           }
          },
          "shapedefaults": {
           "line": {
            "color": "#2a3f5f"
           }
          },
          "ternary": {
           "aaxis": {
            "gridcolor": "white",
            "linecolor": "white",
            "ticks": ""
           },
           "baxis": {
            "gridcolor": "white",
            "linecolor": "white",
            "ticks": ""
           },
           "bgcolor": "#E5ECF6",
           "caxis": {
            "gridcolor": "white",
            "linecolor": "white",
            "ticks": ""
           }
          },
          "title": {
           "x": 0.05
          },
          "xaxis": {
           "automargin": true,
           "gridcolor": "white",
           "linecolor": "white",
           "ticks": "",
           "title": {
            "standoff": 15
           },
           "zerolinecolor": "white",
           "zerolinewidth": 2
          },
          "yaxis": {
           "automargin": true,
           "gridcolor": "white",
           "linecolor": "white",
           "ticks": "",
           "title": {
            "standoff": 15
           },
           "zerolinecolor": "white",
           "zerolinewidth": 2
          }
         }
        }
       }
      },
      "text/html": [
       "<div>                            <div id=\"06762c36-c43d-4991-945c-73ab96fc5817\" class=\"plotly-graph-div\" style=\"height:525px; width:100%;\"></div>            <script type=\"text/javascript\">                require([\"plotly\"], function(Plotly) {                    window.PLOTLYENV=window.PLOTLYENV || {};                                    if (document.getElementById(\"06762c36-c43d-4991-945c-73ab96fc5817\")) {                    Plotly.newPlot(                        \"06762c36-c43d-4991-945c-73ab96fc5817\",                        [{\"hovertemplate\":\"Parents/Children Aboard=%{x}<br>Age=%{y}<br>Gender=%{z}<br>Survived=%{marker.color}<extra></extra>\",\"legendgroup\":\"\",\"marker\":{\"color\":[0,1,1,0,0,0,1,0,0,1,1,0,1,1,1,0,0,0,0,1,0,0,1,0,1,0,1,1,0,0,0,0,0,0,0,0,1,0,1,0,1,0,0,0,0,0,1,0,0,0,1,0,1,0,0,0,0,1,1,0,1,1,0,1,0,1,1,1,0,0,1,1,0,0,1,0,1,0,0,0,1,1,0,1,0,1,1,1,0,1,0,1,1,0,0,0,0,0,0,1,0,0,0,1,0,1,0,1,0,0,1,0,1,0,1,1,1,0,1,1,0,0,1,0,0,1,0,0,1,0,0,1,0,0,1,1,1,0,0,0,0,0,1,0,1,1,1,0,0,0,0,1,0,1,1,0,1,0,0,1,0,0,0,0,0,1,1,1,1,0,1,0,1,0,0,0,0,0,0,1,1,1,0,1,0,0,0,1,1,1,1,0,1,0,0,1,1,0,0,0,0,1,1,1,1,0,0,0,0,0,0,0,0,1,1,0,1,1,0,0,1,0],\"coloraxis\":\"coloraxis\",\"symbol\":\"circle\"},\"mode\":\"markers\",\"name\":\"\",\"scene\":\"scene\",\"showlegend\":false,\"x\":[1,0,1,0,0,1,0,1,2,0,0,0,0,2,0,0,0,0,1,2,2,2,1,0,2,2,2,0,3,0,0,0,0,0,2,0,0,0,1,0,2,0,0,0,1,2,0,2,0,1,2,1,1,1,1,2,2,1,2,0,0,1,2,0,1,0,0,0,0,1,2,2,0,0,0,0,2,1,1,0,0,0,2,0,0,2,0,2,2,1,0,1,1,1,0,0,1,0,0,2,0,2,0,0,0,1,1,2,2,1,0,0,2,0,2,1,1,0,1,1,2,1,1,0,0,0,0,0,1,0,1,2,2,2,0,1,2,0,0,0,0,0,2,0,0,1,1,0,2,0,2,1,0,1,0,0,0,0,0,0,0,2,1,0,0,1,1,0,0,1,1,0,1,0,0,0,0,1,0,1,1,1,0,0,0,0,0,0,0,0,0,1,2,0,0,2,1,0,2,2,1,2,0,0,1,0,0,0,0,0,2,2,1,1,1,2,1,0,0,0,0,2],\"y\":[2.0,14.0,4.0,20.0,14.0,2.0,15.0,8.0,19.0,18.0,18.0,18.0,14.0,3.0,19.0,20.0,16.0,18.0,7.0,5.0,11.0,4.0,7.0,19.0,17.0,16.0,0.83,17.0,16.0,20.0,20.0,14.5,20.0,17.0,2.0,19.0,12.0,19.0,2.0,20.0,19.0,16.0,19.0,18.0,19.0,9.0,16.0,5.0,17.0,1.0,9.0,4.0,1.0,18.0,5.0,8.0,9.0,1.0,4.0,19.0,19.0,3.0,17.0,18.0,2.0,16.0,16.0,19.0,18.0,12.0,5.0,8.0,19.0,19.0,18.0,18.0,3.0,16.0,7.0,16.0,19.0,19.0,2.0,20.0,19.0,0.92,17.0,18.0,20.0,16.0,16.0,2.0,3.0,15.0,18.0,19.0,3.0,20.0,19.0,1.0,18.0,1.0,19.0,17.0,20.0,3.0,3.0,18.0,10.0,18.0,19.0,17.0,14.0,20.0,4.0,13.0,5.0,17.0,0.75,2.0,9.0,8.0,9.0,19.0,17.0,16.0,18.0,18.0,2.0,17.0,17.0,7.0,9.0,11.0,19.0,8.0,17.0,19.0,16.0,19.0,18.0,16.0,18.0,18.0,18.0,4.0,20.0,18.0,9.0,20.0,2.0,0.75,19.0,18.0,16.0,18.0,20.0,19.0,18.0,18.0,20.0,14.0,14.0,19.0,18.0,15.0,4.0,19.0,18.0,18.0,4.0,19.0,6.0,17.0,20.0,11.0,20.0,16.0,19.0,4.0,6.0,0.67,18.0,20.0,16.0,18.0,20.0,5.0,13.0,17.0,18.0,8.0,1.0,20.0,16.0,11.0,0.42,18.0,6.0,10.0,2.0,1.0,19.0,15.0,0.83,18.0,20.0,20.0,16.0,17.0,18.0,4.0,9.0,16.0,18.0,14.0,4.0,15.0,20.0,19.0,19.0,7.0],\"z\":[\"male\",\"female\",\"female\",\"male\",\"female\",\"male\",\"female\",\"female\",\"male\",\"female\",\"male\",\"female\",\"female\",\"female\",\"female\",\"male\",\"male\",\"female\",\"male\",\"female\",\"male\",\"male\",\"male\",\"male\",\"female\",\"female\",\"male\",\"female\",\"male\",\"male\",\"male\",\"female\",\"female\",\"female\",\"female\",\"male\",\"male\",\"male\",\"female\",\"male\",\"female\",\"male\",\"male\",\"male\",\"male\",\"female\",\"female\",\"male\",\"male\",\"male\",\"male\",\"male\",\"female\",\"male\",\"male\",\"female\",\"male\",\"male\",\"female\",\"male\",\"female\",\"male\",\"male\",\"male\",\"female\",\"female\",\"male\",\"male\",\"male\",\"female\",\"female\",\"female\",\"male\",\"female\",\"female\",\"male\",\"male\",\"male\",\"male\",\"male\",\"male\",\"female\",\"female\",\"female\",\"male\",\"male\",\"female\",\"female\",\"male\",\"female\",\"male\",\"male\",\"male\",\"male\",\"male\",\"male\",\"female\",\"male\",\"male\",\"female\",\"male\",\"male\",\"male\",\"female\",\"female\",\"male\",\"female\",\"female\",\"female\",\"male\",\"female\",\"male\",\"female\",\"male\",\"male\",\"female\",\"female\",\"male\",\"female\",\"female\",\"male\",\"female\",\"male\",\"male\",\"male\",\"female\",\"male\",\"male\",\"female\",\"male\",\"male\",\"female\",\"female\",\"female\",\"female\",\"male\",\"male\",\"male\",\"male\",\"male\",\"female\",\"male\",\"female\",\"male\",\"female\",\"female\",\"male\",\"male\",\"female\",\"male\",\"female\",\"female\",\"male\",\"female\",\"female\",\"female\",\"male\",\"male\",\"male\",\"female\",\"male\",\"male\",\"male\",\"male\",\"male\",\"female\",\"female\",\"female\",\"female\",\"female\",\"male\",\"male\",\"female\",\"male\",\"male\",\"male\",\"male\",\"male\",\"male\",\"female\",\"male\",\"male\",\"male\",\"male\",\"male\",\"male\",\"male\",\"female\",\"female\",\"female\",\"female\",\"male\",\"male\",\"male\",\"male\",\"male\",\"male\",\"female\",\"female\",\"male\",\"male\",\"male\",\"male\",\"female\",\"male\",\"male\",\"male\",\"male\",\"male\",\"male\",\"male\",\"male\",\"female\",\"female\",\"female\",\"female\",\"male\",\"female\",\"male\",\"male\",\"female\",\"female\"],\"type\":\"scatter3d\"}],                        {\"template\":{\"data\":{\"histogram2dcontour\":[{\"type\":\"histogram2dcontour\",\"colorbar\":{\"outlinewidth\":0,\"ticks\":\"\"},\"colorscale\":[[0.0,\"#0d0887\"],[0.1111111111111111,\"#46039f\"],[0.2222222222222222,\"#7201a8\"],[0.3333333333333333,\"#9c179e\"],[0.4444444444444444,\"#bd3786\"],[0.5555555555555556,\"#d8576b\"],[0.6666666666666666,\"#ed7953\"],[0.7777777777777778,\"#fb9f3a\"],[0.8888888888888888,\"#fdca26\"],[1.0,\"#f0f921\"]]}],\"choropleth\":[{\"type\":\"choropleth\",\"colorbar\":{\"outlinewidth\":0,\"ticks\":\"\"}}],\"histogram2d\":[{\"type\":\"histogram2d\",\"colorbar\":{\"outlinewidth\":0,\"ticks\":\"\"},\"colorscale\":[[0.0,\"#0d0887\"],[0.1111111111111111,\"#46039f\"],[0.2222222222222222,\"#7201a8\"],[0.3333333333333333,\"#9c179e\"],[0.4444444444444444,\"#bd3786\"],[0.5555555555555556,\"#d8576b\"],[0.6666666666666666,\"#ed7953\"],[0.7777777777777778,\"#fb9f3a\"],[0.8888888888888888,\"#fdca26\"],[1.0,\"#f0f921\"]]}],\"heatmap\":[{\"type\":\"heatmap\",\"colorbar\":{\"outlinewidth\":0,\"ticks\":\"\"},\"colorscale\":[[0.0,\"#0d0887\"],[0.1111111111111111,\"#46039f\"],[0.2222222222222222,\"#7201a8\"],[0.3333333333333333,\"#9c179e\"],[0.4444444444444444,\"#bd3786\"],[0.5555555555555556,\"#d8576b\"],[0.6666666666666666,\"#ed7953\"],[0.7777777777777778,\"#fb9f3a\"],[0.8888888888888888,\"#fdca26\"],[1.0,\"#f0f921\"]]}],\"heatmapgl\":[{\"type\":\"heatmapgl\",\"colorbar\":{\"outlinewidth\":0,\"ticks\":\"\"},\"colorscale\":[[0.0,\"#0d0887\"],[0.1111111111111111,\"#46039f\"],[0.2222222222222222,\"#7201a8\"],[0.3333333333333333,\"#9c179e\"],[0.4444444444444444,\"#bd3786\"],[0.5555555555555556,\"#d8576b\"],[0.6666666666666666,\"#ed7953\"],[0.7777777777777778,\"#fb9f3a\"],[0.8888888888888888,\"#fdca26\"],[1.0,\"#f0f921\"]]}],\"contourcarpet\":[{\"type\":\"contourcarpet\",\"colorbar\":{\"outlinewidth\":0,\"ticks\":\"\"}}],\"contour\":[{\"type\":\"contour\",\"colorbar\":{\"outlinewidth\":0,\"ticks\":\"\"},\"colorscale\":[[0.0,\"#0d0887\"],[0.1111111111111111,\"#46039f\"],[0.2222222222222222,\"#7201a8\"],[0.3333333333333333,\"#9c179e\"],[0.4444444444444444,\"#bd3786\"],[0.5555555555555556,\"#d8576b\"],[0.6666666666666666,\"#ed7953\"],[0.7777777777777778,\"#fb9f3a\"],[0.8888888888888888,\"#fdca26\"],[1.0,\"#f0f921\"]]}],\"surface\":[{\"type\":\"surface\",\"colorbar\":{\"outlinewidth\":0,\"ticks\":\"\"},\"colorscale\":[[0.0,\"#0d0887\"],[0.1111111111111111,\"#46039f\"],[0.2222222222222222,\"#7201a8\"],[0.3333333333333333,\"#9c179e\"],[0.4444444444444444,\"#bd3786\"],[0.5555555555555556,\"#d8576b\"],[0.6666666666666666,\"#ed7953\"],[0.7777777777777778,\"#fb9f3a\"],[0.8888888888888888,\"#fdca26\"],[1.0,\"#f0f921\"]]}],\"mesh3d\":[{\"type\":\"mesh3d\",\"colorbar\":{\"outlinewidth\":0,\"ticks\":\"\"}}],\"scatter\":[{\"fillpattern\":{\"fillmode\":\"overlay\",\"size\":10,\"solidity\":0.2},\"type\":\"scatter\"}],\"parcoords\":[{\"type\":\"parcoords\",\"line\":{\"colorbar\":{\"outlinewidth\":0,\"ticks\":\"\"}}}],\"scatterpolargl\":[{\"type\":\"scatterpolargl\",\"marker\":{\"colorbar\":{\"outlinewidth\":0,\"ticks\":\"\"}}}],\"bar\":[{\"error_x\":{\"color\":\"#2a3f5f\"},\"error_y\":{\"color\":\"#2a3f5f\"},\"marker\":{\"line\":{\"color\":\"#E5ECF6\",\"width\":0.5},\"pattern\":{\"fillmode\":\"overlay\",\"size\":10,\"solidity\":0.2}},\"type\":\"bar\"}],\"scattergeo\":[{\"type\":\"scattergeo\",\"marker\":{\"colorbar\":{\"outlinewidth\":0,\"ticks\":\"\"}}}],\"scatterpolar\":[{\"type\":\"scatterpolar\",\"marker\":{\"colorbar\":{\"outlinewidth\":0,\"ticks\":\"\"}}}],\"histogram\":[{\"marker\":{\"pattern\":{\"fillmode\":\"overlay\",\"size\":10,\"solidity\":0.2}},\"type\":\"histogram\"}],\"scattergl\":[{\"type\":\"scattergl\",\"marker\":{\"colorbar\":{\"outlinewidth\":0,\"ticks\":\"\"}}}],\"scatter3d\":[{\"type\":\"scatter3d\",\"line\":{\"colorbar\":{\"outlinewidth\":0,\"ticks\":\"\"}},\"marker\":{\"colorbar\":{\"outlinewidth\":0,\"ticks\":\"\"}}}],\"scattermapbox\":[{\"type\":\"scattermapbox\",\"marker\":{\"colorbar\":{\"outlinewidth\":0,\"ticks\":\"\"}}}],\"scatterternary\":[{\"type\":\"scatterternary\",\"marker\":{\"colorbar\":{\"outlinewidth\":0,\"ticks\":\"\"}}}],\"scattercarpet\":[{\"type\":\"scattercarpet\",\"marker\":{\"colorbar\":{\"outlinewidth\":0,\"ticks\":\"\"}}}],\"carpet\":[{\"aaxis\":{\"endlinecolor\":\"#2a3f5f\",\"gridcolor\":\"white\",\"linecolor\":\"white\",\"minorgridcolor\":\"white\",\"startlinecolor\":\"#2a3f5f\"},\"baxis\":{\"endlinecolor\":\"#2a3f5f\",\"gridcolor\":\"white\",\"linecolor\":\"white\",\"minorgridcolor\":\"white\",\"startlinecolor\":\"#2a3f5f\"},\"type\":\"carpet\"}],\"table\":[{\"cells\":{\"fill\":{\"color\":\"#EBF0F8\"},\"line\":{\"color\":\"white\"}},\"header\":{\"fill\":{\"color\":\"#C8D4E3\"},\"line\":{\"color\":\"white\"}},\"type\":\"table\"}],\"barpolar\":[{\"marker\":{\"line\":{\"color\":\"#E5ECF6\",\"width\":0.5},\"pattern\":{\"fillmode\":\"overlay\",\"size\":10,\"solidity\":0.2}},\"type\":\"barpolar\"}],\"pie\":[{\"automargin\":true,\"type\":\"pie\"}]},\"layout\":{\"autotypenumbers\":\"strict\",\"colorway\":[\"#636efa\",\"#EF553B\",\"#00cc96\",\"#ab63fa\",\"#FFA15A\",\"#19d3f3\",\"#FF6692\",\"#B6E880\",\"#FF97FF\",\"#FECB52\"],\"font\":{\"color\":\"#2a3f5f\"},\"hovermode\":\"closest\",\"hoverlabel\":{\"align\":\"left\"},\"paper_bgcolor\":\"white\",\"plot_bgcolor\":\"#E5ECF6\",\"polar\":{\"bgcolor\":\"#E5ECF6\",\"angularaxis\":{\"gridcolor\":\"white\",\"linecolor\":\"white\",\"ticks\":\"\"},\"radialaxis\":{\"gridcolor\":\"white\",\"linecolor\":\"white\",\"ticks\":\"\"}},\"ternary\":{\"bgcolor\":\"#E5ECF6\",\"aaxis\":{\"gridcolor\":\"white\",\"linecolor\":\"white\",\"ticks\":\"\"},\"baxis\":{\"gridcolor\":\"white\",\"linecolor\":\"white\",\"ticks\":\"\"},\"caxis\":{\"gridcolor\":\"white\",\"linecolor\":\"white\",\"ticks\":\"\"}},\"coloraxis\":{\"colorbar\":{\"outlinewidth\":0,\"ticks\":\"\"}},\"colorscale\":{\"sequential\":[[0.0,\"#0d0887\"],[0.1111111111111111,\"#46039f\"],[0.2222222222222222,\"#7201a8\"],[0.3333333333333333,\"#9c179e\"],[0.4444444444444444,\"#bd3786\"],[0.5555555555555556,\"#d8576b\"],[0.6666666666666666,\"#ed7953\"],[0.7777777777777778,\"#fb9f3a\"],[0.8888888888888888,\"#fdca26\"],[1.0,\"#f0f921\"]],\"sequentialminus\":[[0.0,\"#0d0887\"],[0.1111111111111111,\"#46039f\"],[0.2222222222222222,\"#7201a8\"],[0.3333333333333333,\"#9c179e\"],[0.4444444444444444,\"#bd3786\"],[0.5555555555555556,\"#d8576b\"],[0.6666666666666666,\"#ed7953\"],[0.7777777777777778,\"#fb9f3a\"],[0.8888888888888888,\"#fdca26\"],[1.0,\"#f0f921\"]],\"diverging\":[[0,\"#8e0152\"],[0.1,\"#c51b7d\"],[0.2,\"#de77ae\"],[0.3,\"#f1b6da\"],[0.4,\"#fde0ef\"],[0.5,\"#f7f7f7\"],[0.6,\"#e6f5d0\"],[0.7,\"#b8e186\"],[0.8,\"#7fbc41\"],[0.9,\"#4d9221\"],[1,\"#276419\"]]},\"xaxis\":{\"gridcolor\":\"white\",\"linecolor\":\"white\",\"ticks\":\"\",\"title\":{\"standoff\":15},\"zerolinecolor\":\"white\",\"automargin\":true,\"zerolinewidth\":2},\"yaxis\":{\"gridcolor\":\"white\",\"linecolor\":\"white\",\"ticks\":\"\",\"title\":{\"standoff\":15},\"zerolinecolor\":\"white\",\"automargin\":true,\"zerolinewidth\":2},\"scene\":{\"xaxis\":{\"backgroundcolor\":\"#E5ECF6\",\"gridcolor\":\"white\",\"linecolor\":\"white\",\"showbackground\":true,\"ticks\":\"\",\"zerolinecolor\":\"white\",\"gridwidth\":2},\"yaxis\":{\"backgroundcolor\":\"#E5ECF6\",\"gridcolor\":\"white\",\"linecolor\":\"white\",\"showbackground\":true,\"ticks\":\"\",\"zerolinecolor\":\"white\",\"gridwidth\":2},\"zaxis\":{\"backgroundcolor\":\"#E5ECF6\",\"gridcolor\":\"white\",\"linecolor\":\"white\",\"showbackground\":true,\"ticks\":\"\",\"zerolinecolor\":\"white\",\"gridwidth\":2}},\"shapedefaults\":{\"line\":{\"color\":\"#2a3f5f\"}},\"annotationdefaults\":{\"arrowcolor\":\"#2a3f5f\",\"arrowhead\":0,\"arrowwidth\":1},\"geo\":{\"bgcolor\":\"white\",\"landcolor\":\"#E5ECF6\",\"subunitcolor\":\"white\",\"showland\":true,\"showlakes\":true,\"lakecolor\":\"white\"},\"title\":{\"x\":0.05},\"mapbox\":{\"style\":\"light\"}}},\"scene\":{\"domain\":{\"x\":[0.0,1.0],\"y\":[0.0,1.0]},\"xaxis\":{\"title\":{\"text\":\"Parents/Children Aboard\"}},\"yaxis\":{\"title\":{\"text\":\"Age\"}},\"zaxis\":{\"title\":{\"text\":\"Gender\"}}},\"coloraxis\":{\"colorbar\":{\"title\":{\"text\":\"Survived\"}},\"colorscale\":[[0.0,\"#0d0887\"],[0.1111111111111111,\"#46039f\"],[0.2222222222222222,\"#7201a8\"],[0.3333333333333333,\"#9c179e\"],[0.4444444444444444,\"#bd3786\"],[0.5555555555555556,\"#d8576b\"],[0.6666666666666666,\"#ed7953\"],[0.7777777777777778,\"#fb9f3a\"],[0.8888888888888888,\"#fdca26\"],[1.0,\"#f0f921\"]]},\"legend\":{\"tracegroupgap\":0},\"margin\":{\"t\":60}},                        {\"responsive\": true}                    ).then(function(){\n",
       "                            \n",
       "var gd = document.getElementById('06762c36-c43d-4991-945c-73ab96fc5817');\n",
       "var x = new MutationObserver(function (mutations, observer) {{\n",
       "        var display = window.getComputedStyle(gd).display;\n",
       "        if (!display || display === 'none') {{\n",
       "            console.log([gd, 'removed!']);\n",
       "            Plotly.purge(gd);\n",
       "            observer.disconnect();\n",
       "        }}\n",
       "}});\n",
       "\n",
       "// Listen for the removal of the full notebook cells\n",
       "var notebookContainer = gd.closest('#notebook-container');\n",
       "if (notebookContainer) {{\n",
       "    x.observe(notebookContainer, {childList: true});\n",
       "}}\n",
       "\n",
       "// Listen for the clearing of the current output cell\n",
       "var outputEl = gd.closest('.output');\n",
       "if (outputEl) {{\n",
       "    x.observe(outputEl, {childList: true});\n",
       "}}\n",
       "\n",
       "                        })                };                });            </script>        </div>"
      ]
     },
     "metadata": {},
     "output_type": "display_data"
    }
   ],
   "source": [
    "# create a list of our conditions\n",
    "df11 = f.loc[f['Age'] <= 20]\n",
    "\n",
    "conditions = [\n",
    "    (df11['Parents/Children Aboard'] == 0),\n",
    "    (df11['Parents/Children Aboard'] == 1),\n",
    "    (df11['Parents/Children Aboard'] > 1)\n",
    "    ]\n",
    "\n",
    "# create a list of the values we want to assign for each condition\n",
    "values = [0, 1, 2]\n",
    "\n",
    "# create a new column and use np.select to assign values to it using our lists as arguments\n",
    "df11['class'] = np.select(conditions, values)\n",
    "\n",
    "fig = px.scatter_3d(df11,x = 'Parents/Children Aboard', y = 'Age', z= 'Gender',\n",
    "                    color='Survived')\n",
    "fig.show()\n",
    "## IN this section we have created a 3D of no parents abroad and 1 and more than 1 sibling abroad. The data shows that if there are no parents abroad the women has more chance of\n",
    "# survival. THE OTHER Thing is taht over all women has more chance of survival comparing to men. rather 0 ,1 orr more than 1 siblings aboard."
   ]
  },
  {
   "cell_type": "markdown",
   "id": "d0757722",
   "metadata": {},
   "source": [
    "## The End "
   ]
  },
  {
   "cell_type": "code",
   "execution_count": null,
   "id": "7408d722",
   "metadata": {},
   "outputs": [],
   "source": []
  }
 ],
 "metadata": {
  "kernelspec": {
   "display_name": "Python 3 (ipykernel)",
   "language": "python",
   "name": "python3"
  },
  "language_info": {
   "codemirror_mode": {
    "name": "ipython",
    "version": 3
   },
   "file_extension": ".py",
   "mimetype": "text/x-python",
   "name": "python",
   "nbconvert_exporter": "python",
   "pygments_lexer": "ipython3",
   "version": "3.9.13"
  },
  "toc": {
   "base_numbering": 1,
   "nav_menu": {},
   "number_sections": true,
   "sideBar": true,
   "skip_h1_title": false,
   "title_cell": "Table of Contents",
   "title_sidebar": "Contents",
   "toc_cell": false,
   "toc_position": {},
   "toc_section_display": true,
   "toc_window_display": false
  }
 },
 "nbformat": 4,
 "nbformat_minor": 5
}
